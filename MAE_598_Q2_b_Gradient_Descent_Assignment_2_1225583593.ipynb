{
  "nbformat": 4,
  "nbformat_minor": 0,
  "metadata": {
    "colab": {
      "provenance": [],
      "collapsed_sections": []
    },
    "kernelspec": {
      "name": "python3",
      "display_name": "Python 3"
    },
    "language_info": {
      "name": "python"
    }
  },
  "cells": [
    {
      "cell_type": "code",
      "execution_count": null,
      "metadata": {
        "colab": {
          "base_uri": "https://localhost:8080/"
        },
        "id": "C9bNRSxZcjNg",
        "outputId": "dc29e7b0-994b-4860-8b7a-a2430e3496ce"
      },
      "outputs": [
        {
          "output_type": "stream",
          "name": "stdout",
          "text": [
            "No. of iterations 3412\n",
            "x1 = -1.0714285714285714\n",
            "x2 = -0.1423587006957431\n",
            "x3 = 0.7853819909400191\n",
            "Slopes at calculated x2 and x3 [ 0.00099888 -0.00066592]\n",
            "Shortest distance from the given point is 0.2672619132854075\n"
          ]
        }
      ],
      "source": [
        "import matplotlib.pyplot as plt\n",
        "import numpy as np\n",
        "import math\n",
        "# initial guess is x=0, y=0\n",
        "x = 0\n",
        "y = 0\n",
        "\n",
        "def f(x,y) :\n",
        "    return (2 - 2*x - 3*y)**2 + x**2 + (y-1)**2\n",
        "\n",
        "def fp(x,y) :\n",
        "    return np.array([(10*x + 12*y - 8), (12*x + 20*y - 14)])\n",
        "  \n",
        "convergence = []\n",
        "value = fp(x,y)\n",
        "i = 0\n",
        "# print(f(x,y))\n",
        "\n",
        "while abs(value[0]) > 0.001 or abs(value[1]) > 0.001 :\n",
        "  value = fp(x,y)\n",
        "  temp0 = x - value[0]*0.001\n",
        "  temp1 = y - value[1]*0.001\n",
        "  convergence.append(math.log(f(x,y)))\n",
        "  x = temp0\n",
        "  y = temp1\n",
        "  i += 1\n",
        "print(f\"No. of iterations {i}\")\n",
        "\n",
        "result = math.sqrt(f(x,y))\n",
        "\n",
        "print(f\"x1 = {1-2*x-3*y}\")\n",
        "print(f\"x2 = {x}\")\n",
        "print(f\"x3 = {y}\")\n",
        "print(f\"Slopes at calculated x2 and x3 {value}\")\n",
        "print(f\"Shortest distance from the given point is {result}\")"
      ]
    },
    {
      "cell_type": "code",
      "source": [
        "plt.title(\"Log linear convergence plot\")\n",
        "plt.xlabel(\"No. of Iterations\")\n",
        "plt.ylabel(\"Log f(x1,x2)\")\n",
        "plt.plot(convergence)"
      ],
      "metadata": {
        "colab": {
          "base_uri": "https://localhost:8080/",
          "height": 312
        },
        "id": "RME_Ghty79Iu",
        "outputId": "ac7ba04e-08e2-4e31-a0ed-b8262f3c7b28"
      },
      "execution_count": null,
      "outputs": [
        {
          "output_type": "execute_result",
          "data": {
            "text/plain": [
              "[<matplotlib.lines.Line2D at 0x7f1b125defd0>]"
            ]
          },
          "metadata": {},
          "execution_count": 115
        },
        {
          "output_type": "display_data",
          "data": {
            "text/plain": [
              "<Figure size 432x288 with 1 Axes>"
            ],
            "image/png": "[encoded data removed]"
          },
          "metadata": {
            "needs_background": "light"
          }
        }
      ]
    }
  ]
}