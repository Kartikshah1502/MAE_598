{
  "cells": [
    {
      "cell_type": "code",
      "execution_count": 17,
      "id": "9527095a-392b-4d63-a0d9-80f3a822c75a",
      "metadata": {
        "colab": {
          "base_uri": "https://localhost:8080/"
        },
        "id": "9527095a-392b-4d63-a0d9-80f3a822c75a",
        "outputId": "6d242f77-bf19-4a5d-a7c4-e6168a37129b"
      },
      "outputs": [
        {
          "output_type": "stream",
          "name": "stdout",
          "text": [
            "x1=[-1.57327871]\n",
            "x2=[1.3772831]\n",
            "x3=[-0.19658949]\n"
          ]
        }
      ],
      "source": [
        "import numpy as np\n",
        "def function(x1, x2, x3):\n",
        "    return x1**2 + x2**2 + x3**2\n",
        "\n",
        "def constraints(x1, x2, x3):\n",
        "    h1 = (x1**2)/4 + (x2**2)/5 + (x3**2)/25 -1\n",
        "    h2 = x1+x2-x3\n",
        "    return h1, h2\n",
        "\n",
        "def reduced_gradient(x1, x2, x3):\n",
        "    df_ds = np.vstack((2 * x2, 2 * x3))\n",
        "    par_df_dd = np.array([2 * x1])\n",
        "    dh_ds = np.vstack((np.hstack(((2/5) * x2, (2/25) * x3)), np.array([[1, -1]], dtype=float)))\n",
        "    dh_dd = np.vstack(((1 / 2) * x1, 1.))\n",
        "    dh_ds_inv = np.linalg.inv(dh_ds)\n",
        "    df_dd = par_df_dd - np.matmul(df_ds.T, np.matmul(dh_ds_inv, dh_dd))\n",
        "    return df_ds, par_df_dd, dh_ds, dh_dd, dh_ds_inv, df_dd\n",
        "\n",
        "def line_search(x1, x2, x3):\n",
        "    alpha = 1.0\n",
        "    b = 0.5\n",
        "    t = 0.3\n",
        "\n",
        "    def phi(x1, x2, x3, alpha):\n",
        "        df_ds, par_df_dd, dh_ds, dh_dd, dh_ds_inv,df_dd = reduced_gradient(x1, x2, x3)\n",
        "        return function(x1, x2, x3) - alpha * t * np.matmul(df_dd, df_dd.T)  \n",
        "\n",
        "    def f(x1, x2, x3, alpha):\n",
        "        x1 = x1 - alpha * df_dd.flatten()\n",
        "        ds = np.matmul(np.matmul(dh_ds_inv, dh_dd), df_dd.T).flatten()\n",
        "        x2 = x2 + alpha * ds[0]\n",
        "        x3 = x3 + alpha * ds[1]\n",
        "        return function(x1, x2, x3)\n",
        "\n",
        "    phiv = phi(x1, x2, x3, alpha)\n",
        "    fv = f(x1, x2, x3, alpha)\n",
        "    \n",
        "    while phiv < fv:\n",
        "        alpha = 0.5 * alpha\n",
        "        phiv = phi(x1, x2, x3, alpha)\n",
        "        fv = f(x1, x2, x3, alpha)\n",
        "    return alpha\n",
        "\n",
        "def solve_function(x1, x2, x3):\n",
        "    error = 1e-3\n",
        "    h1, h2 = constraints(x1, x2, x3)\n",
        "    h = np.vstack((h1, h2))\n",
        "    h_norm = np.linalg.norm(h)\n",
        "\n",
        "    while h_norm >= error:\n",
        "        df_ds, par_df_dd, dh_ds, dh_dd, dh_ds_inv, df_dd = reduced_gradient(x1, x2, x3)\n",
        "        ds = np.matmul(dh_ds_inv, h)\n",
        "        x2 = x2 - ds[0]\n",
        "        x3 = x3 - ds[1]\n",
        "        h1, h2 = constraints(x1, x2, x3)\n",
        "        h = np.vstack((h1, h2))\n",
        "        h_norm = np.linalg.norm(h)\n",
        "    return x1, x2, x3, h_norm\n",
        "\n",
        "eps = 1e-3 \n",
        "x1 = np.array([1.0])\n",
        "x2 = np.array([1.0])\n",
        "x3 = np.array([1.0])\n",
        "\n",
        "x1, x2, x3, _ = solve_function(x1, x2, x3)\n",
        "df_ds, par_df_dd, dh_ds, dh_dd, dh_ds_inv, df_dd = reduced_gradient(x1, x2, x3)\n",
        "df_dd_norm = np.linalg.norm(df_dd)\n",
        "\n",
        "while df_dd_norm >= eps:\n",
        "    alpha = line_search(x1, x2, x3)\n",
        "    df_ds, par_df_dd, dh_ds, dh_dd, dh_ds_inv, df_dd = reduced_gradient(x1, x2, x3)\n",
        "    x1 = x1 - alpha * df_dd.flatten()\n",
        "    df_ds, par_df_dd, dh_ds, dh_dd, dh_ds_inv, df_dd = reduced_gradient(x1, x2, x3)\n",
        "    ds = alpha * np.matmul(np.matmul(dh_ds_inv, dh_dd), df_dd.T).flatten()\n",
        "    x2 = x2 + ds[0]\n",
        "    x3 = x3 + ds[1]\n",
        "    x1, x2, x3, _ = solve_function(x1, x2, x3)\n",
        "    df_ds, par_df_dd, dh_ds, dh_dd, dh_ds_inv, df_dd = reduced_gradient(x1, x2, x3)\n",
        "    df_dd_norm = np.linalg.norm(df_dd)\n",
        "\n",
        "print('x1={}\\nx2={}\\nx3={}'.format(x1, x2, x3))"
      ]
    }
  ],
  "metadata": {
    "kernelspec": {
      "display_name": "Python 3 (ipykernel)",
      "language": "python",
      "name": "python3"
    },
    "language_info": {
      "codemirror_mode": {
        "name": "ipython",
        "version": 3
      },
      "file_extension": ".py",
      "mimetype": "text/x-python",
      "name": "python",
      "nbconvert_exporter": "python",
      "pygments_lexer": "ipython3",
      "version": "3.10.4"
    },
    "colab": {
      "provenance": [],
      "collapsed_sections": []
    }
  },
  "nbformat": 4,
  "nbformat_minor": 5
}