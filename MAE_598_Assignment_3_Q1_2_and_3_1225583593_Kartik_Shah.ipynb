{
  "nbformat": 4,
  "nbformat_minor": 0,
  "metadata": {
    "colab": {
      "provenance": []
    },
    "kernelspec": {
      "name": "python3",
      "display_name": "Python 3"
    },
    "language_info": {
      "name": "python"
    }
  },
  "cells": [
    {
      "cell_type": "code",
      "execution_count": 1,
      "metadata": {
        "id": "DCpyIwZZGBHJ"
      },
      "outputs": [],
      "source": [
        "import torch\n",
        "import numpy as np\n",
        "from torch.autograd import Variable\n",
        "import matplotlib.pyplot as plt\n",
        "from IPython import display"
      ]
    },
    {
      "cell_type": "code",
      "source": [
        "X1 = np.linspace(0,1,11)\n",
        "X2 = np.flip(X1).copy()\n",
        "a = np.array([[8.07131, 1730.63, 233.426],[7.43155, 1554.679, 240.337]])\n",
        "p1sat = 10**(a[0,0]-(a[0,1]/(20 + a[0,2])))\n",
        "p2sat = 10**(a[1,0]-(a[1,1]/(20 + a[1,2])))\n",
        "p_label = np.array([[28.1, 34.4, 36.7, 36.9, 36.8, 36.7, 36.5, 35.4, 32.9, 27.7, 17.5]])\n",
        "p_label = torch.tensor(p_label, requires_grad = False, dtype = torch.float32)\n",
        "x1 = torch.tensor(X1, requires_grad = False, dtype = torch.float32)\n",
        "x2 = torch.tensor(X2, requires_grad = False, dtype = torch.float32)\n",
        "A = Variable(torch.tensor([1.0, 1.0]), requires_grad = True)\n",
        "a = 0.0001\n",
        "\n",
        "for i in range (100):\n",
        "    p_pred = x1*torch.exp(A[0]*(A[1]*x2/(A[0]*x1 + A[1]*x2))**2)*p1sat + x2*torch.exp(A[1]*(A[0]*x1/(A[0]*x1 + A[1]*x2))**2)*p2sat\n",
        "    loss = (p_pred-p_label)**2\n",
        "    loss = loss.sum()\n",
        "    loss.backward()\n",
        "\n",
        "    with torch.no_grad():\n",
        "      A = A - a*A.grad\n",
        "      A.grad.zero_()\n",
        "\n",
        "print('estimation A12 and A21 is', A)\n",
        "print('final loss is :', loss.data.numpy)"
      ],
      "metadata": {
        "colab": {
          "base_uri": "https://localhost:8080/",
          "height": 235
        },
        "id": "xthX_q80Gd3W",
        "outputId": "eaec5f4c-0052-4731-9e84-b246b1890a34"
      },
      "execution_count": 2,
      "outputs": [
        {
          "output_type": "error",
          "ename": "AttributeError",
          "evalue": "ignored",
          "traceback": [
            "\u001b[0;31m---------------------------------------------------------------------------\u001b[0m",
            "\u001b[0;31mAttributeError\u001b[0m                            Traceback (most recent call last)",
            "\u001b[0;32m<ipython-input-2-872bd6aedb2b>\u001b[0m in \u001b[0;36m<module>\u001b[0;34m\u001b[0m\n\u001b[1;32m     19\u001b[0m     \u001b[0;32mwith\u001b[0m \u001b[0mtorch\u001b[0m\u001b[0;34m.\u001b[0m\u001b[0mno_grad\u001b[0m\u001b[0;34m(\u001b[0m\u001b[0;34m)\u001b[0m\u001b[0;34m:\u001b[0m\u001b[0;34m\u001b[0m\u001b[0;34m\u001b[0m\u001b[0m\n\u001b[1;32m     20\u001b[0m       \u001b[0mA\u001b[0m \u001b[0;34m=\u001b[0m \u001b[0mA\u001b[0m \u001b[0;34m-\u001b[0m \u001b[0ma\u001b[0m\u001b[0;34m*\u001b[0m\u001b[0mA\u001b[0m\u001b[0;34m.\u001b[0m\u001b[0mgrad\u001b[0m\u001b[0;34m\u001b[0m\u001b[0;34m\u001b[0m\u001b[0m\n\u001b[0;32m---> 21\u001b[0;31m       \u001b[0mA\u001b[0m\u001b[0;34m.\u001b[0m\u001b[0mgrad\u001b[0m\u001b[0;34m.\u001b[0m\u001b[0mzero_\u001b[0m\u001b[0;34m(\u001b[0m\u001b[0;34m)\u001b[0m\u001b[0;34m\u001b[0m\u001b[0;34m\u001b[0m\u001b[0m\n\u001b[0m\u001b[1;32m     22\u001b[0m \u001b[0;34m\u001b[0m\u001b[0m\n\u001b[1;32m     23\u001b[0m \u001b[0mprint\u001b[0m\u001b[0;34m(\u001b[0m\u001b[0;34m'estimation A12 and A21 is'\u001b[0m\u001b[0;34m,\u001b[0m \u001b[0mA\u001b[0m\u001b[0;34m)\u001b[0m\u001b[0;34m\u001b[0m\u001b[0;34m\u001b[0m\u001b[0m\n",
            "\u001b[0;31mAttributeError\u001b[0m: 'NoneType' object has no attribute 'zero_'"
          ]
        }
      ]
    },
    {
      "cell_type": "code",
      "source": [
        "p_pred = p_pred.detach().numpy()[0]\n",
        "p_label = p_label.detach().numpy()[0]\n",
        "x1 = x1.detach().numpy()[]\n",
        "\n",
        "plt.plot(x1, p_pred, label = \"Predicted Pressure\")\n",
        "plt.xlabel('x1')\n",
        "plt.ylabel('Pressure')\n",
        "plt.legend()\n",
        "plt.title('Predicted pressure and actual pressure')"
      ],
      "metadata": {
        "colab": {
          "base_uri": "https://localhost:8080/",
          "height": 295
        },
        "id": "B_ekD5nQLBuU",
        "outputId": "6ee05c16-9f80-4ed9-b79a-c2a44a276980"
      },
      "execution_count": 13,
      "outputs": [
        {
          "output_type": "display_data",
          "data": {
            "text/plain": [
              "<Figure size 432x288 with 1 Axes>"
            ],
            "image/png": "[encoded data removed]"
          },
          "metadata": {
            "needs_background": "light"
          }
        }
      ]
    }
  ]
}