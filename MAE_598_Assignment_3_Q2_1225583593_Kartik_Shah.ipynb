{
  "nbformat": 4,
  "nbformat_minor": 0,
  "metadata": {
    "colab": {
      "provenance": [],
      "collapsed_sections": []
    },
    "kernelspec": {
      "name": "python3",
      "display_name": "Python 3"
    },
    "language_info": {
      "name": "python"
    }
  },
  "cells": [
    {
      "cell_type": "code",
      "source": [
        "!pip install bayesian-optimization"
      ],
      "metadata": {
        "colab": {
          "base_uri": "https://localhost:8080/"
        },
        "id": "B4WV9EVTEzNh",
        "outputId": "cbd6f4c4-df42-46be-9ce9-eed190db95f2"
      },
      "execution_count": 1,
      "outputs": [
        {
          "output_type": "stream",
          "name": "stdout",
          "text": [
            "Looking in indexes: https://pypi.org/simple, https://us-python.pkg.dev/colab-wheels/public/simple/\n",
            "Collecting bayesian-optimization\n",
            "  Downloading bayesian-optimization-1.2.0.tar.gz (14 kB)\n",
            "Requirement already satisfied: numpy>=1.9.0 in /usr/local/lib/python3.7/dist-packages (from bayesian-optimization) (1.21.6)\n",
            "Requirement already satisfied: scipy>=0.14.0 in /usr/local/lib/python3.7/dist-packages (from bayesian-optimization) (1.7.3)\n",
            "Requirement already satisfied: scikit-learn>=0.18.0 in /usr/local/lib/python3.7/dist-packages (from bayesian-optimization) (1.0.2)\n",
            "Requirement already satisfied: joblib>=0.11 in /usr/local/lib/python3.7/dist-packages (from scikit-learn>=0.18.0->bayesian-optimization) (1.2.0)\n",
            "Requirement already satisfied: threadpoolctl>=2.0.0 in /usr/local/lib/python3.7/dist-packages (from scikit-learn>=0.18.0->bayesian-optimization) (3.1.0)\n",
            "Building wheels for collected packages: bayesian-optimization\n",
            "  Building wheel for bayesian-optimization (setup.py) ... \u001b[?25l\u001b[?25hdone\n",
            "  Created wheel for bayesian-optimization: filename=bayesian_optimization-1.2.0-py3-none-any.whl size=11685 sha256=55d8c69332c3ba2b2405b99728f50576bfa0ec1839b1e5427f7b4f2233d4eab9\n",
            "  Stored in directory: /root/.cache/pip/wheels/fd/9b/71/f127d694e02eb40bcf18c7ae9613b88a6be4470f57a8528c5b\n",
            "Successfully built bayesian-optimization\n",
            "Installing collected packages: bayesian-optimization\n",
            "Successfully installed bayesian-optimization-1.2.0\n"
          ]
        }
      ]
    },
    {
      "cell_type": "code",
      "source": [
        "def black_box_function(x, y):\n",
        "  return (4 - 2.1*(x**2) + (x**4)/3)*(x**2) + (x*y) + (-4 + (4*(y**2)))*(y**2)"
      ],
      "metadata": {
        "id": "iToBiuQcBHs1"
      },
      "execution_count": 2,
      "outputs": []
    },
    {
      "cell_type": "code",
      "source": [
        "from bayes_opt import BayesianOptimization\n",
        "\n",
        "# Bounded region of parameter space\n",
        "pbounds = {'x': (-3, 3), 'y': (-2, 2)}\n",
        "\n",
        "optimizer = BayesianOptimization(\n",
        "    f=black_box_function,\n",
        "    pbounds=pbounds,\n",
        "    random_state=1,\n",
        ")"
      ],
      "metadata": {
        "id": "I_tQE3gS6w51"
      },
      "execution_count": 3,
      "outputs": []
    },
    {
      "cell_type": "code",
      "source": [
        "optimizer.maximize(\n",
        "    init_points=2,\n",
        "    n_iter=3,\n",
        ")\n"
      ],
      "metadata": {
        "colab": {
          "base_uri": "https://localhost:8080/"
        },
        "id": "v-kxSEjSIRBQ",
        "outputId": "baf120b7-9e15-4eff-e3d0-b1935f3d5c04"
      },
      "execution_count": 4,
      "outputs": [
        {
          "output_type": "stream",
          "name": "stdout",
          "text": [
            "|   iter    |  target   |     x     |     y     |\n",
            "-------------------------------------------------\n",
            "| \u001b[0m 1       \u001b[0m | \u001b[0m-0.265   \u001b[0m | \u001b[0m-0.4979  \u001b[0m | \u001b[0m 0.8813  \u001b[0m |\n",
            "| \u001b[95m 2       \u001b[0m | \u001b[95m 110.1   \u001b[0m | \u001b[95m-2.999   \u001b[0m | \u001b[95m-0.7907  \u001b[0m |\n",
            "| \u001b[0m 3       \u001b[0m | \u001b[0m 71.79   \u001b[0m | \u001b[0m-2.842   \u001b[0m | \u001b[0m-0.6775  \u001b[0m |\n",
            "| \u001b[0m 4       \u001b[0m | \u001b[0m 105.6   \u001b[0m | \u001b[0m-2.973   \u001b[0m | \u001b[0m-1.082   \u001b[0m |\n",
            "| \u001b[0m 5       \u001b[0m | \u001b[0m 3.61    \u001b[0m | \u001b[0m-2.104   \u001b[0m | \u001b[0m 0.5152  \u001b[0m |\n",
            "=================================================\n"
          ]
        }
      ]
    },
    {
      "cell_type": "code",
      "source": [
        "for i, res in enumerate(optimizer.res):\n",
        "    print(\"Iteration {}: \\n\\t{}\".format(i, res))"
      ],
      "metadata": {
        "colab": {
          "base_uri": "https://localhost:8080/"
        },
        "id": "ktlaN-zyIR5z",
        "outputId": "5f46bea1-625a-4cdb-8a1f-e63f798aa595"
      },
      "execution_count": 5,
      "outputs": [
        {
          "output_type": "stream",
          "name": "stdout",
          "text": [
            "Iteration 0: \n",
            "\t{'target': -0.2650082867644827, 'params': {'x': -0.4978679717845562, 'y': 0.8812979737686324}}\n",
            "Iteration 1: \n",
            "\t{'target': 110.13991869176739, 'params': {'x': -2.9993137510959307, 'y': -0.7906697094726409}}\n",
            "Iteration 2: \n",
            "\t{'target': 71.78927010059918, 'params': {'x': -2.8415417002388166, 'y': -0.6775081049627025}}\n",
            "Iteration 3: \n",
            "\t{'target': 105.61436929335453, 'params': {'x': -2.973470851997723, 'y': -1.082375009314677}}\n",
            "Iteration 4: \n",
            "\t{'target': 3.6103908488482563, 'params': {'x': -2.1041597209576226, 'y': 0.5152470560110505}}\n"
          ]
        }
      ]
    },
    {
      "cell_type": "code",
      "source": [
        "optimizer.set_bounds(new_bounds={\"x\": (-2, 3)})\n",
        "\n",
        "optimizer.maximize(\n",
        "    init_points=0,\n",
        "    n_iter=5,\n",
        ")"
      ],
      "metadata": {
        "colab": {
          "base_uri": "https://localhost:8080/"
        },
        "id": "zR7fh-pCIgbJ",
        "outputId": "68ef4232-7b6e-4d60-c95c-aabc6699e68a"
      },
      "execution_count": 6,
      "outputs": [
        {
          "output_type": "stream",
          "name": "stdout",
          "text": [
            "|   iter    |  target   |     x     |     y     |\n",
            "-------------------------------------------------\n",
            "| \u001b[0m 6       \u001b[0m | \u001b[0m 0.7717  \u001b[0m | \u001b[0m-1.57    \u001b[0m | \u001b[0m 1.035   \u001b[0m |\n",
            "| \u001b[0m 7       \u001b[0m | \u001b[0m 44.62   \u001b[0m | \u001b[0m-1.989   \u001b[0m | \u001b[0m-1.895   \u001b[0m |\n",
            "| \u001b[95m 8       \u001b[0m | \u001b[95m 150.9   \u001b[0m | \u001b[95m 3.0     \u001b[0m | \u001b[95m-2.0     \u001b[0m |\n",
            "| \u001b[0m 9       \u001b[0m | \u001b[0m 113.2   \u001b[0m | \u001b[0m 3.0     \u001b[0m | \u001b[0m-1.43    \u001b[0m |\n",
            "| \u001b[0m 10      \u001b[0m | \u001b[0m 57.11   \u001b[0m | \u001b[0m 2.342   \u001b[0m | \u001b[0m-2.0     \u001b[0m |\n",
            "=================================================\n"
          ]
        }
      ]
    },
    {
      "cell_type": "code",
      "source": [
        "optimizer.probe(\n",
        "    params={\"x\": 0.5, \"y\": 0.7},\n",
        "    lazy=True,\n",
        ")\n",
        "\n",
        "optimizer.probe(\n",
        "    params=[-0.3, 0.1],\n",
        "    lazy=True,\n",
        ")\n",
        "\n",
        "# Will probe only the two points specified above\n",
        "optimizer.maximize(init_points=0, n_iter=0)"
      ],
      "metadata": {
        "colab": {
          "base_uri": "https://localhost:8080/"
        },
        "id": "dizkx6XSIrCa",
        "outputId": "7ef06f24-be6d-4343-839f-179431c318c2"
      },
      "execution_count": 7,
      "outputs": [
        {
          "output_type": "stream",
          "name": "stdout",
          "text": [
            "|   iter    |  target   |     x     |     y     |\n",
            "-------------------------------------------------\n",
            "| \u001b[0m 11      \u001b[0m | \u001b[0m 0.2244  \u001b[0m | \u001b[0m 0.5     \u001b[0m | \u001b[0m 0.7     \u001b[0m |\n",
            "| \u001b[0m 12      \u001b[0m | \u001b[0m 0.2736  \u001b[0m | \u001b[0m-0.3     \u001b[0m | \u001b[0m 0.1     \u001b[0m |\n",
            "=================================================\n"
          ]
        }
      ]
    },
    {
      "cell_type": "code",
      "source": [
        "from bayes_opt.logger import JSONLogger\n",
        "from bayes_opt.event import Events"
      ],
      "metadata": {
        "id": "viatw0RxIwuC"
      },
      "execution_count": 8,
      "outputs": []
    },
    {
      "cell_type": "code",
      "source": [
        "logger = JSONLogger(path=\"./logs.json\")\n",
        "optimizer.subscribe(Events.OPTIMIZATION_STEP, logger)\n",
        "\n",
        "# Results will be saved in ./logs.json\n",
        "optimizer.maximize(\n",
        "    init_points=2,\n",
        "    n_iter=3,\n",
        ")"
      ],
      "metadata": {
        "colab": {
          "base_uri": "https://localhost:8080/"
        },
        "id": "IdoxY76CIxcH",
        "outputId": "29caee06-15ee-47f5-fdba-50c53d8f1bb4"
      },
      "execution_count": 9,
      "outputs": [
        {
          "output_type": "stream",
          "name": "stdout",
          "text": [
            "|   iter    |  target   |     x     |     y     |\n",
            "-------------------------------------------------\n",
            "| \u001b[0m 13      \u001b[0m | \u001b[0m 22.1    \u001b[0m | \u001b[0m-1.266   \u001b[0m | \u001b[0m-1.631   \u001b[0m |\n",
            "| \u001b[0m 14      \u001b[0m | \u001b[0m 2.042   \u001b[0m | \u001b[0m-1.069   \u001b[0m | \u001b[0m-0.6178  \u001b[0m |\n",
            "| \u001b[0m 15      \u001b[0m | \u001b[0m 107.6   \u001b[0m | \u001b[0m 3.0     \u001b[0m | \u001b[0m-0.3168  \u001b[0m |\n",
            "| \u001b[0m 16      \u001b[0m | \u001b[0m 109.8   \u001b[0m | \u001b[0m 3.0     \u001b[0m | \u001b[0m 0.5887  \u001b[0m |\n",
            "| \u001b[0m 17      \u001b[0m | \u001b[0m 8.357   \u001b[0m | \u001b[0m 2.203   \u001b[0m | \u001b[0m 0.2007  \u001b[0m |\n",
            "=================================================\n"
          ]
        }
      ]
    },
    {
      "cell_type": "code",
      "source": [
        "from bayes_opt.util import load_logs\n",
        "\n",
        "\n",
        "new_optimizer = BayesianOptimization(\n",
        "    f=black_box_function,\n",
        "    pbounds={\"x\": (-2, 2), \"y\": (-2, 2)},\n",
        "    verbose=2,\n",
        "    random_state=7,\n",
        ")\n",
        "\n",
        "# New optimizer is loaded with previously seen points\n",
        "load_logs(new_optimizer, logs=[\"./logs.json\"]);"
      ],
      "metadata": {
        "id": "eryP6otFIzV9"
      },
      "execution_count": 10,
      "outputs": []
    }
  ]
}